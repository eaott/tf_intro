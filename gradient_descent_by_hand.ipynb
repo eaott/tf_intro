{
 "cells": [
  {
   "cell_type": "code",
   "execution_count": null,
   "metadata": {
    "collapsed": true
   },
   "outputs": [],
   "source": [
    "import tensorflow as tf\n",
    "import numpy as np\n",
    "import matplotlib.pyplot as plt"
   ]
  },
  {
   "cell_type": "code",
   "execution_count": null,
   "metadata": {
    "collapsed": true
   },
   "outputs": [],
   "source": [
    "N = 100\n",
    "P = 1\n",
    "slope = 5\n",
    "intercept = 2\n",
    "X_train = np.random.normal(size=[N, P])\n",
    "Y_train = X_train * slope + intercept"
   ]
  },
  {
   "cell_type": "code",
   "execution_count": null,
   "metadata": {
    "collapsed": true
   },
   "outputs": [],
   "source": [
    "# Define our data for training / evaluation.\n",
    "# A tf.placeholder is a recipe for an input. Here, we say that each has the shape [None, 1]\n",
    "# which means that we are going to provide an arbitrary number of inputs that each are one-dimensional.\n",
    "x = tf.placeholder(dtype=tf.float32, shape=[None, 1], name=\"x\")\n",
    "Y = tf.placeholder(dtype=tf.float32, shape=[None, 1], name=\"y\")\n",
    "\n",
    "# Define the model. This includes our variables (beta and b) and how they interact with our inputs.\n",
    "# We'll initialize them to 0 (arbitrarily).\n",
    "beta = tf.Variable(tf.zeros((1, 1)))\n",
    "b = tf.Variable(tf.zeros((1, 1)))\n",
    "Y_pred = tf.matmul(x, beta) + b"
   ]
  },
  {
   "cell_type": "markdown",
   "metadata": {},
   "source": [
    "## Gradient descent -- this is broken.....\n",
    "The loss is the sum of the squared errors:\n",
    "\\begin{align}\n",
    "\\mathcal{L} &= (Y - \\hat{y})^\\top (Y-\\hat{y})\n",
    "\\\\\n",
    "&= (Y-(X\\beta+b))^\\top(Y-(X\\beta+b))\n",
    "\\\\\n",
    "&=Y^\\top Y - 2 Y^\\top (X\\beta+b)+(X\\beta+b)^\\top(X\\beta+b)\n",
    "\\end{align}\n",
    "\n",
    "The gradient of the loss with respect to our variables ($\\beta$ and $b$) is:\n",
    "$$\\frac{\\partial \\mathcal{L}}{\\partial \\beta} = - 2 X^\\top Y + 2 X^\\top X \\beta + 2 X^\\top b$$\n",
    "$$\\frac{\\partial \\mathcal{L}}{\\partial b} = - 2 Y + 2 X\\beta + 2 b$$\n"
   ]
  },
  {
   "cell_type": "code",
   "execution_count": null,
   "metadata": {
    "collapsed": true
   },
   "outputs": [],
   "source": [
    "xt = tf.transpose(x)\n",
    "dloss_dbeta = - 2 * tf.matmul(xt, Y) + 2 * tf.matmul(tf.matmul(xt, x), beta) + 2 * b * tf.reduce_sum(xt, 1)\n",
    "dloss_db = - 2 * tf.reduce_sum(Y) + 2 * tf.reduce_sum(tf.matmul(x, beta)) + 2 * b\n",
    "\n",
    "learning_rate = 0.001\n",
    "new_beta = beta - learning_rate * dloss_dbeta\n",
    "new_b = b - learning_rate * dloss_db\n",
    "\n",
    "update_rule = tf.group(tf.assign(beta, new_beta), tf.assign(b, new_b))"
   ]
  }
 ],
 "metadata": {
  "kernelspec": {
   "display_name": "Python 2",
   "language": "python",
   "name": "python2"
  },
  "language_info": {
   "codemirror_mode": {
    "name": "ipython",
    "version": 2
   },
   "file_extension": ".py",
   "mimetype": "text/x-python",
   "name": "python",
   "nbconvert_exporter": "python",
   "pygments_lexer": "ipython2",
   "version": "2.7.10"
  }
 },
 "nbformat": 4,
 "nbformat_minor": 1
}
